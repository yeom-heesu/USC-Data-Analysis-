{
 "cells": [
  {
   "cell_type": "code",
   "execution_count": 7,
   "metadata": {
    "colab": {},
    "colab_type": "code",
    "id": "qx0SvW8-gqsl"
   },
   "outputs": [],
   "source": [
    "import csv\n",
    "import matplotlib.pyplot as plt"
   ]
  },
  {
   "cell_type": "code",
   "execution_count": 8,
   "metadata": {
    "colab": {},
    "colab_type": "code",
    "id": "1gL-ozkkgqss",
    "outputId": "fd528bd6-8447-4921-eb24-a62dfcf7f704"
   },
   "outputs": [
    {
     "name": "stdout",
     "output_type": "stream",
     "text": [
      "# of tweets labeled as positive: 26\n",
      "# of tweets labeled as neutral: 62\n",
      "# of tweets labeled as negative: 12\n"
     ]
    }
   ],
   "source": [
    "final_dictionary = {}\n",
    "\n",
    "final_dictionary['positive'] = 0\n",
    "final_dictionary['neutral'] = 0\n",
    "final_dictionary['negative'] = 0\n",
    "\n",
    "with open('nltk_output.txt', mode='r', encoding='UTF-8') as my_file:\n",
    "    csv_reader = csv.reader(my_file, delimiter='\\t')\n",
    "    \n",
    "    for row in csv_reader:\n",
    "        txt = row[0]\n",
    "        sentiment = float(row[1])\n",
    "        \n",
    "        if sentiment == 0:\n",
    "            final_dictionary['neutral'] = final_dictionary['neutral'] + 1\n",
    "            \n",
    "        if sentiment < 0:\n",
    "            final_dictionary['negative'] = final_dictionary['negative'] + 1\n",
    "            \n",
    "        if sentiment > 0:\n",
    "            final_dictionary['positive'] = final_dictionary['positive'] + 1\n",
    "    \n",
    "    print(\"# of tweets labeled as positive: \" + str(final_dictionary['positive']))\n",
    "    print(\"# of tweets labeled as neutral: \" + str(final_dictionary['neutral']))\n",
    "    print(\"# of tweets labeled as negative: \" + str(final_dictionary['negative']))\n",
    "    "
   ]
  },
  {
   "cell_type": "code",
   "execution_count": 9,
   "metadata": {
    "colab": {},
    "colab_type": "code",
    "id": "CCkvPLDXgqsy",
    "outputId": "cc796cdb-cdab-4bc3-b5ee-8e2143b0a624"
   },
   "outputs": [
    {
     "data": {
      "image/png": "[encoded data removed]",
      "text/plain": [
       "<Figure size 720x216 with 1 Axes>"
      ]
     },
     "metadata": {
      "needs_background": "light"
     },
     "output_type": "display_data"
    }
   ],
   "source": [
    "plt.figure(figsize=(10, 3))\n",
    "plt.title('Sentiment Distribution of Tweets -- NLTK')\n",
    "plt.xlabel('Sentiment')\n",
    "plt.ylabel('# of Tweets per sentiment')\n",
    "plt.bar(final_dictionary.keys(), final_dictionary.values(), width=0.3, color='g')\n",
    "\n",
    "plt.show()"
   ]
  },
  {
   "cell_type": "code",
   "execution_count": 0,
   "metadata": {
    "colab": {},
    "colab_type": "code",
    "id": "84v5pF_jgqs3"
   },
   "outputs": [],
   "source": []
  }
 ],
 "metadata": {
  "colab": {
   "name": "Sentiment_Count_Notebook.ipynb",
   "provenance": [],
   "version": "0.3.2"
  },
  "kernelspec": {
   "display_name": "Python 3",
   "language": "python",
   "name": "python3"
  }
 },
 "nbformat": 4,
 "nbformat_minor": 1
}
