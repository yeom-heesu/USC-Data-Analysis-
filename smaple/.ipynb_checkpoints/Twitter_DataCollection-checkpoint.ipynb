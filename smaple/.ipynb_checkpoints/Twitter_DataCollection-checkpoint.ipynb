{
 "cells": [
  {
   "cell_type": "markdown",
   "metadata": {},
   "source": [
    "If you get an error such as \"No module named 'tweepy'\", you need to download the following package.\n",
    ">> pip install tweepy"
   ]
  },
  {
   "cell_type": "markdown",
   "metadata": {},
   "source": [
    "# Import necessary packages"
   ]
  },
  {
   "cell_type": "code",
   "execution_count": null,
   "metadata": {},
   "outputs": [],
   "source": [
    "import tweepy\n",
    "import csv"
   ]
  },
  {
   "cell_type": "markdown",
   "metadata": {},
   "source": [
    "# You need to create your own key on https://apps.twitter.com"
   ]
  },
  {
   "cell_type": "code",
   "execution_count": null,
   "metadata": {},
   "outputs": [],
   "source": [
    "consumer_key = 'hhfzCiaNAgaZDFsaL6KGUesz2'\n",
    "consumer_secret = 'W6N7OxArLj6tYV8Dh8XajwitIuWYCRd0pmWu1jOHJvUzBVqiln'\n",
    "\n",
    "access_token = '1059208697010782208-zXq2crexkA95x63uPiACoN4zbuakiw'\n",
    "access_secret = 'EOIhSkiESdve1azNTIrFfJY2ZJ9e0hNbnVIoZGCTb1Cfw'"
   ]
  },
  {
   "cell_type": "code",
   "execution_count": 40,
   "metadata": {},
   "outputs": [],
   "source": [
    "auth = tweepy.OAuthHandler(consumer_key, consumer_secret)\n",
    "auth.set_access_token(access_token, access_secret)\n",
    "\n",
    "api = tweepy.API(auth)"
   ]
  },
  {
   "cell_type": "markdown",
   "metadata": {},
   "source": [
    "# Collecting Data from Twitter API"
   ]
  },
  {
   "cell_type": "code",
   "execution_count": 58,
   "metadata": {},
   "outputs": [
    {
     "name": "stdout",
     "output_type": "stream",
     "text": [
      "----\n",
      "Tweet ID:1145939252078886913\n",
      "Tweet Text: New post: Trump, US Lose Trade War with China https://t.co/uN185njLDB https://t.co/mQBsaMDRtr RT Amer\n",
      "Tweet Created At: 2019-07-02 06:16:22\n",
      "Tweet Coordinates: None\n",
      "User ID: 345160251\n",
      "User Screen Name: socioecohistory\n",
      "User Name: socioecohistory\n",
      "User Location: \n",
      "Retweet Count: 0\n",
      "Retweeted: False\n",
      "Phone Type: socioecohistory\n",
      "Favorite Count: 0\n",
      "Favorited: False\n",
      "Replied: None\n",
      "----\n",
      "----\n",
      "Tweet ID:1145939251764355072\n",
      "Tweet Text: RT @CBSNews: Political cartoonist says he was laid off over his illustration of Trump golfing near dead migrants https://t.co/b2kBE2sinf ht…\n",
      "Tweet Created At: 2019-07-02 06:16:22\n",
      "Tweet Coordinates: None\n",
      "User ID: 4083357592\n",
      "User Screen Name: ccreativamexico\n",
      "User Name: Conexion Creativa\n",
      "User Location: México\n",
      "Retweet Count: 26\n",
      "Retweeted: False\n",
      "Phone Type: Bot CC\n",
      "Favorite Count: 0\n",
      "Favorited: False\n",
      "Replied: None\n",
      "----\n",
      "----\n",
      "Tweet ID:1145939251386822656\n",
      "Tweet Text: RT @sergiosiano92: Anyone who would go to Trump's July 4th rally, 5 days after he met with Putin and Kim, is out of their goddamn mind.PS…\n",
      "Tweet Created At: 2019-07-02 06:16:22\n",
      "Tweet Coordinates: None\n",
      "User ID: 21009701\n",
      "User Screen Name: Cyril_Matvech\n",
      "User Name: Cyril Matvech;- SNP Civility War\n",
      "User Location: Dumfries & Galloway\n",
      "Retweet Count: 124\n",
      "Retweeted: False\n",
      "Phone Type: Twitter for iPhone\n",
      "Favorite Count: 0\n",
      "Favorited: False\n",
      "Replied: None\n",
      "----\n",
      "----\n",
      "Tweet ID:1145939251378438144\n",
      "Tweet Text: RT @Rambobiggs: Please don't not scroll past this without signing this petition. It is imperative that we end the domestic terrorist organi…\n",
      "Tweet Created At: 2019-07-02 06:16:22\n",
      "Tweet Coordinates: None\n",
      "User ID: 835851354354642945\n",
      "User Screen Name: JohanBreytenba9\n",
      "User Name: The South African\n",
      "User Location: South Africa \n",
      "Retweet Count: 5141\n",
      "Retweeted: False\n",
      "Phone Type: Twitter for iPhone\n",
      "Favorite Count: 0\n",
      "Favorited: False\n",
      "Replied: None\n",
      "----\n",
      "----\n",
      "Tweet ID:1145939251374149632\n",
      "Tweet Text: @MaddowBlog Why can't an international court bring charges on Trump? He's got to be prosecuted for these atrocities… https://t.co/0umMY3mcey\n",
      "Tweet Created At: 2019-07-02 06:16:22\n",
      "Tweet Coordinates: None\n",
      "User ID: 625347575\n",
      "User Screen Name: poodlebuttmom\n",
      "User Name: Wendy Roberts\n",
      "User Location: \n",
      "Retweet Count: 0\n",
      "Retweeted: False\n",
      "Phone Type: Twitter Web Client\n",
      "Favorite Count: 0\n",
      "Favorited: False\n",
      "Replied: 1145870063305678848\n",
      "----\n"
     ]
    }
   ],
   "source": [
    "fetch_tweets = tweepy.Cursor(api.search, q='Trump').items(5)\n",
    "\n",
    "for tweet_rec in fetch_tweets:\n",
    "    print('----')\n",
    "    \n",
    "    print('Tweet ID:' + str(tweet_rec.id))\n",
    "    print('Tweet Text: ' + tweet_rec.text.replace('\\n', ''))\n",
    "    print('Tweet Created At: ' + str(tweet_rec.created_at))\n",
    "    print('Tweet Coordinates: ' + str(tweet_rec.coordinates))\n",
    "    \n",
    "    print('User ID: ' + str(tweet_rec.user.id))\n",
    "    print('User Screen Name: ' + tweet_rec.user.screen_name)\n",
    "    print('User Name: ' + tweet_rec.user.name)\n",
    "    print('User Location: ' + str(tweet_rec.user.location))\n",
    "    \n",
    "    print('Retweet Count: ' + str(tweet_rec.retweet_count))\n",
    "    print('Retweeted: ' + str(tweet_rec.retweeted))\n",
    "    print('Phone Type: ' + str(tweet_rec.source))\n",
    "    print('Favorite Count: ' + str(tweet_rec.favorite_count))\n",
    "    print('Favorited: ' + str(tweet_rec.favorited))\n",
    "    print('Replied: ' + str(tweet_rec.in_reply_to_status_id_str))\n",
    "                    \n",
    "    print('----')"
   ]
  },
  {
   "cell_type": "markdown",
   "metadata": {},
   "source": [
    "# Saving to a CSV File"
   ]
  },
  {
   "cell_type": "code",
   "execution_count": 48,
   "metadata": {},
   "outputs": [],
   "source": [
    "fetch_tweets = tweepy.Cursor(api.search, q='Trump').items(5)\n",
    "\n",
    "with open('myData2.csv', mode='w', newline = '', encoding='UTF-8') as my_file:\n",
    "    my_writer = csv.writer(my_file, delimiter=',')\n",
    "    \n",
    "    my_writer.writerow(['Tweet_ID', 'Text', 'user_screen_name'])\n",
    "    \n",
    "    for i in fetch_tweets:\n",
    "        current_ID = str(i.id)\n",
    "        current_txt = str(i.text.replace('\\n', ' '))\n",
    "        current_user_screen_name = str(i.user.screen_name)\n",
    "        \n",
    "        my_writer.writerow([current_ID, current_txt, current_user_screen_name])"
   ]
  },
  {
   "cell_type": "markdown",
   "metadata": {},
   "source": [
    "# Reading CSV File"
   ]
  },
  {
   "cell_type": "code",
   "execution_count": 53,
   "metadata": {},
   "outputs": [
    {
     "name": "stdout",
     "output_type": "stream",
     "text": [
      "----\n",
      "1145936157173305345\n",
      "RT @McFaul: This is so wrong. The whole reason we declared our independence was to protest such inequalities! Trump should have his private…\n",
      "SammyAce17\n",
      "----\n",
      "----\n",
      "1145936157051695105\n",
      "RT @CREWcrew: Who is benefiting from Trump’s zero tolerance immigration policy?  A private prison company that has donated hundreds of thou…\n",
      "HolisticPsy1\n",
      "----\n",
      "----\n",
      "1145936156866908160\n",
      "RT @marklutchman: President Trump said,   “We’re always talking about dreamers from other countries,  I want children of the United States…\n",
      "lostmyscruples\n",
      "----\n",
      "----\n",
      "1145936156615479296\n",
      "RT @bretterlich: In the last 36 hours the Trump kids did the following : 1/3 pathetically embarrassed us in front of world leaders.... http…\n",
      "Micah_Not_Micha\n",
      "----\n",
      "----\n",
      "1145936156204425216\n",
      "⁦@MMrsjosephm⁩ Kamala Harris’ Ex-Lover Willie Brown Goes Rogue: NO Dems Can Beat Trump, Including Kamala https://t.co/oqZndo15JN\n",
      "IG007\n",
      "----\n"
     ]
    }
   ],
   "source": [
    "with open('myData2.csv', mode='r', encoding='UTF-8') as my_file:\n",
    "    csv_reader = csv.reader(my_file, delimiter=',')\n",
    "    line_count = 0\n",
    "    \n",
    "    for row in csv_reader:\n",
    "        line_count += 1\n",
    "        \n",
    "        #skip reading the header row\n",
    "        if line_count == 1:\n",
    "            continue;\n",
    "            \n",
    "        print('----')\n",
    "        print(row[0])\n",
    "        print(row[1])\n",
    "        print(row[2])\n",
    "        print('----')"
   ]
  },
  {
   "cell_type": "code",
   "execution_count": null,
   "metadata": {},
   "outputs": [],
   "source": []
  }
 ],
 "metadata": {
  "kernelspec": {
   "display_name": "Python 3",
   "language": "python",
   "name": "python3"
  },
  "language_info": {
   "codemirror_mode": {
    "name": "ipython",
    "version": 3
   },
   "file_extension": ".py",
   "mimetype": "text/x-python",
   "name": "python",
   "nbconvert_exporter": "python",
   "pygments_lexer": "ipython3",
   "version": "3.7.0"
  }
 },
 "nbformat": 4,
 "nbformat_minor": 2
}
