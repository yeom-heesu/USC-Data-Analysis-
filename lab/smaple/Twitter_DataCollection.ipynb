{
 "cells": [
  {
   "cell_type": "markdown",
   "metadata": {},
   "source": [
    "If you get an error such as \"No module named 'tweepy'\", you need to download the following package.\n",
    ">> pip install tweepy"
   ]
  },
  {
   "cell_type": "code",
   "execution_count": null,
   "metadata": {},
   "outputs": [],
   "source": []
  },
  {
   "cell_type": "markdown",
   "metadata": {},
   "source": [
    "# Import necessary packages"
   ]
  },
  {
   "cell_type": "code",
   "execution_count": 8,
   "metadata": {},
   "outputs": [],
   "source": [
    "import tweepy\n",
    "import csv"
   ]
  },
  {
   "cell_type": "markdown",
   "metadata": {},
   "source": [
    "# You need to create your own key on https://apps.twitter.com"
   ]
  },
  {
   "cell_type": "code",
   "execution_count": 9,
   "metadata": {},
   "outputs": [],
   "source": [
    "consumer_key = 'hhfzCiaNAgaZDFsaL6KGUesz2'\n",
    "consumer_secret = 'W6N7OxArLj6tYV8Dh8XajwitIuWYCRd0pmWu1jOHJvUzBVqiln'\n",
    "\n",
    "access_token = '1059208697010782208-zXq2crexkA95x63uPiACoN4zbuakiw'\n",
    "access_secret = 'EOIhSkiESdve1azNTIrFfJY2ZJ9e0hNbnVIoZGCTb1Cfw'"
   ]
  },
  {
   "cell_type": "code",
   "execution_count": 10,
   "metadata": {},
   "outputs": [],
   "source": [
    "auth = tweepy.OAuthHandler(consumer_key, consumer_secret)\n",
    "auth.set_access_token(access_token, access_secret)\n",
    "\n",
    "api = tweepy.API(auth)"
   ]
  },
  {
   "cell_type": "markdown",
   "metadata": {},
   "source": [
    "# Collecting Data from Twitter API"
   ]
  },
  {
   "cell_type": "code",
   "execution_count": 11,
   "metadata": {},
   "outputs": [
    {
     "name": "stdout",
     "output_type": "stream",
     "text": [
      "----\n",
      "Tweet ID:1146180768730767361\n",
      "Tweet Text: @SpeakerPelosi @realDonaldTrump Letters, Letters, Letters, is all we ever see you tweeting out! Why is it so hard t… https://t.co/AE9h4pZT72\n",
      "Tweet Created At: 2019-07-02 22:16:04\n",
      "Tweet Coordinates: None\n",
      "User ID: 983062994\n",
      "User Screen Name: Ava_ABQuteee\n",
      "User Name: A♈️AⓂ️™\n",
      "User Location: \n",
      "Retweet Count: 0\n",
      "Retweeted: False\n",
      "Phone Type: Twitter for iPhone\n",
      "Favorite Count: 0\n",
      "Favorited: False\n",
      "Replied: 1146160643269189636\n",
      "----\n",
      "----\n",
      "Tweet ID:1146180768613298176\n",
      "Tweet Text: RT @darth: guessing the printer was running low on toner and trump forced pence to come back to deal with it but it could be anything tbh\n",
      "Tweet Created At: 2019-07-02 22:16:04\n",
      "Tweet Coordinates: None\n",
      "User ID: 462673299\n",
      "User Screen Name: marciw10\n",
      "User Name: Marci Wright\n",
      "User Location: Seattle\n",
      "Retweet Count: 12\n",
      "Retweeted: False\n",
      "Phone Type: Twitter for iPad\n",
      "Favorite Count: 0\n",
      "Favorited: False\n",
      "Replied: None\n",
      "----\n",
      "----\n",
      "Tweet ID:1146180768558931970\n",
      "Tweet Text: RT @alejitoponce: Atencion.!!!!! Trump sacara los tanques a las calles el 4 de julio.Para celebrar el cumpleaños deÁlvaro Uribe Vélez.!!…\n",
      "Tweet Created At: 2019-07-02 22:16:04\n",
      "Tweet Coordinates: None\n",
      "User ID: 1131474536078172162\n",
      "User Screen Name: buitres_familia\n",
      "User Name: Derecha Republicana.\n",
      "User Location: \n",
      "Retweet Count: 10\n",
      "Retweeted: False\n",
      "Phone Type: Twitter for Android\n",
      "Favorite Count: 0\n",
      "Favorited: False\n",
      "Replied: None\n",
      "----\n",
      "----\n",
      "Tweet ID:1146180768462360576\n",
      "Tweet Text: https://t.co/d1bzjSoENk\n",
      "Tweet Created At: 2019-07-02 22:16:04\n",
      "Tweet Coordinates: None\n",
      "User ID: 1036235471267934208\n",
      "User Screen Name: montanaslim11\n",
      "User Name: Montana Slim\n",
      "User Location: Montana, USA\n",
      "Retweet Count: 0\n",
      "Retweeted: False\n",
      "Phone Type: Twitter Web Client\n",
      "Favorite Count: 0\n",
      "Favorited: False\n",
      "Replied: None\n",
      "----\n",
      "----\n",
      "Tweet ID:1146180768273764352\n",
      "Tweet Text: RT @CBSNews: Pres. Trump’s National Press Secretary @kayleighmcenany says the “vast majority” of donors to the president’s 2020 reelection…\n",
      "Tweet Created At: 2019-07-02 22:16:04\n",
      "Tweet Coordinates: None\n",
      "User ID: 316574958\n",
      "User Screen Name: exalted_jupiter\n",
      "User Name: Shahid Syed\n",
      "User Location: \n",
      "Retweet Count: 46\n",
      "Retweeted: False\n",
      "Phone Type: Twitter Web Client\n",
      "Favorite Count: 0\n",
      "Favorited: False\n",
      "Replied: None\n",
      "----\n"
     ]
    }
   ],
   "source": [
    "fetch_tweets = tweepy.Cursor(api.search, q='Trump').items(5)\n",
    "\n",
    "for tweet_rec in fetch_tweets:\n",
    "    print('----')\n",
    "    \n",
    "    print('Tweet ID:' + str(tweet_rec.id))\n",
    "    print('Tweet Text: ' + tweet_rec.text.replace('\\n', ''))\n",
    "    print('Tweet Created At: ' + str(tweet_rec.created_at))\n",
    "    print('Tweet Coordinates: ' + str(tweet_rec.coordinates))\n",
    "    \n",
    "    print('User ID: ' + str(tweet_rec.user.id))\n",
    "    print('User Screen Name: ' + tweet_rec.user.screen_name)\n",
    "    print('User Name: ' + tweet_rec.user.name)\n",
    "    print('User Location: ' + str(tweet_rec.user.location))\n",
    "    \n",
    "    print('Retweet Count: ' + str(tweet_rec.retweet_count))\n",
    "    print('Retweeted: ' + str(tweet_rec.retweeted))\n",
    "    print('Phone Type: ' + str(tweet_rec.source))\n",
    "    print('Favorite Count: ' + str(tweet_rec.favorite_count))\n",
    "    print('Favorited: ' + str(tweet_rec.favorited))\n",
    "    print('Replied: ' + str(tweet_rec.in_reply_to_status_id_str))\n",
    "                    \n",
    "    print('----')"
   ]
  },
  {
   "cell_type": "markdown",
   "metadata": {},
   "source": [
    "# Saving to a CSV File"
   ]
  },
  {
   "cell_type": "code",
   "execution_count": 12,
   "metadata": {},
   "outputs": [
    {
     "ename": "PermissionError",
     "evalue": "[Errno 13] Permission denied: 'myData2.csv'",
     "output_type": "error",
     "traceback": [
      "\u001b[1;31m---------------------------------------------------------------------------\u001b[0m",
      "\u001b[1;31mPermissionError\u001b[0m                           Traceback (most recent call last)",
      "\u001b[1;32m<ipython-input-12-9de8bf5351cd>\u001b[0m in \u001b[0;36m<module>\u001b[1;34m()\u001b[0m\n\u001b[0;32m      1\u001b[0m \u001b[0mfetch_tweets\u001b[0m \u001b[1;33m=\u001b[0m \u001b[0mtweepy\u001b[0m\u001b[1;33m.\u001b[0m\u001b[0mCursor\u001b[0m\u001b[1;33m(\u001b[0m\u001b[0mapi\u001b[0m\u001b[1;33m.\u001b[0m\u001b[0msearch\u001b[0m\u001b[1;33m,\u001b[0m \u001b[0mq\u001b[0m\u001b[1;33m=\u001b[0m\u001b[1;34m'Trump'\u001b[0m\u001b[1;33m)\u001b[0m\u001b[1;33m.\u001b[0m\u001b[0mitems\u001b[0m\u001b[1;33m(\u001b[0m\u001b[1;36m5\u001b[0m\u001b[1;33m)\u001b[0m\u001b[1;33m\u001b[0m\u001b[0m\n\u001b[0;32m      2\u001b[0m \u001b[1;33m\u001b[0m\u001b[0m\n\u001b[1;32m----> 3\u001b[1;33m \u001b[1;32mwith\u001b[0m \u001b[0mopen\u001b[0m\u001b[1;33m(\u001b[0m\u001b[1;34m'myData2.csv'\u001b[0m\u001b[1;33m,\u001b[0m \u001b[0mmode\u001b[0m\u001b[1;33m=\u001b[0m\u001b[1;34m'w'\u001b[0m\u001b[1;33m,\u001b[0m \u001b[0mnewline\u001b[0m \u001b[1;33m=\u001b[0m \u001b[1;34m''\u001b[0m\u001b[1;33m,\u001b[0m \u001b[0mencoding\u001b[0m\u001b[1;33m=\u001b[0m\u001b[1;34m'UTF-8'\u001b[0m\u001b[1;33m)\u001b[0m \u001b[1;32mas\u001b[0m \u001b[0mmy_file\u001b[0m\u001b[1;33m:\u001b[0m\u001b[1;33m\u001b[0m\u001b[0m\n\u001b[0m\u001b[0;32m      4\u001b[0m     \u001b[0mmy_writer\u001b[0m \u001b[1;33m=\u001b[0m \u001b[0mcsv\u001b[0m\u001b[1;33m.\u001b[0m\u001b[0mwriter\u001b[0m\u001b[1;33m(\u001b[0m\u001b[0mmy_file\u001b[0m\u001b[1;33m,\u001b[0m \u001b[0mdelimiter\u001b[0m\u001b[1;33m=\u001b[0m\u001b[1;34m','\u001b[0m\u001b[1;33m)\u001b[0m\u001b[1;33m\u001b[0m\u001b[0m\n\u001b[0;32m      5\u001b[0m \u001b[1;33m\u001b[0m\u001b[0m\n",
      "\u001b[1;31mPermissionError\u001b[0m: [Errno 13] Permission denied: 'myData2.csv'"
     ]
    }
   ],
   "source": [
    "fetch_tweets = tweepy.Cursor(api.search, q='Trump').items(5)\n",
    "\n",
    "with open('myData2.csv', mode='w', newline = '', encoding='UTF-8') as my_file:\n",
    "    my_writer = csv.writer(my_file, delimiter=',')\n",
    "    \n",
    "    my_writer.writerow(['Tweet_ID', 'Text', 'user_screen_name'])\n",
    "    \n",
    "    for i in fetch_tweets:\n",
    "        current_ID = str(i.id)\n",
    "        current_txt = str(i.text.replace('\\n', ' '))\n",
    "        current_user_screen_name = str(i.user.screen_name)\n",
    "        \n",
    "        my_writer.writerow([current_ID, current_txt, current_user_screen_name])"
   ]
  },
  {
   "cell_type": "markdown",
   "metadata": {},
   "source": [
    "# Reading CSV File"
   ]
  },
  {
   "cell_type": "code",
   "execution_count": 14,
   "metadata": {},
   "outputs": [
    {
     "name": "stdout",
     "output_type": "stream",
     "text": [
      "----\n",
      "1146168961953927168\n",
      "RT @AP: BREAKING: The Trump administration says it's printing the 2020 Census without a citizenship question, according to a lawyer for a g…\n",
      "stories_n\n",
      "----\n",
      "----\n",
      "1146168961706237952\n",
      "RT @funder: BREAKING: Congress is now investigating Ivanka Trump and Jared Kushner’s use of personal email for official government business…\n",
      "DeltaKing_VII\n",
      "----\n",
      "----\n",
      "1146168961458954243\n",
      "Vladimir Putin calls urgent meeting with defence chiefs as Mike Pence’s 'plane turns back' to DC for 'emergency’ https://t.co/N2F1lzJAVG\n",
      "Trump_45th\n",
      "----\n",
      "----\n",
      "1146168960716595202\n",
      "Trump Administration Drops Effort to Add Citizenship Question to 2020 Census https://t.co/73XqZeh7lL\n",
      "klillington\n",
      "----\n",
      "----\n",
      "1146168960687190020\n",
      "RT @OutFrontCNN: Who is Doug Emhoff? Democratic presidential candidate Kamala Harris' husband has been a fixture on the campaign trail and…\n",
      "29Sinclair\n",
      "----\n"
     ]
    }
   ],
   "source": [
    "with open('myData2.csv', mode='r', encoding='UTF-8') as my_file:\n",
    "    csv_reader = csv.reader(my_file, delimiter=',')\n",
    "    line_count = 0\n",
    "    \n",
    "    for row in csv_reader:\n",
    "        line_count += 1\n",
    "        \n",
    "        #skip reading the header row\n",
    "        if line_count == 1:\n",
    "            continue;\n",
    "            \n",
    "        print('----')\n",
    "        print(row[0])\n",
    "        print(row[1])\n",
    "        print(row[2])\n",
    "        print('----')"
   ]
  },
  {
   "cell_type": "code",
   "execution_count": null,
   "metadata": {},
   "outputs": [],
   "source": []
  },
  {
   "cell_type": "code",
   "execution_count": null,
   "metadata": {},
   "outputs": [],
   "source": []
  }
 ],
 "metadata": {
  "kernelspec": {
   "display_name": "Python 3",
   "language": "python",
   "name": "python3"
  },
  "language_info": {
   "codemirror_mode": {
    "name": "ipython",
    "version": 3
   },
   "file_extension": ".py",
   "mimetype": "text/x-python",
   "name": "python",
   "nbconvert_exporter": "python",
   "pygments_lexer": "ipython3",
   "version": "3.7.0"
  }
 },
 "nbformat": 4,
 "nbformat_minor": 2
}
