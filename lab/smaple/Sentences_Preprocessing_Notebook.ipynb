{
 "cells": [
  {
   "cell_type": "markdown",
   "metadata": {},
   "source": [
    "# Import necessary packages"
   ]
  },
  {
   "cell_type": "code",
   "execution_count": 3,
   "metadata": {},
   "outputs": [],
   "source": [
    "import nltk\n",
    "from nltk.tokenize import word_tokenize\n",
    "#nltk.download()\n",
    "from nltk.tokenize import RegexpTokenizer\n",
    "from nltk.corpus import stopwords"
   ]
  },
  {
   "cell_type": "markdown",
   "metadata": {},
   "source": [
    "If you get an error such as \"Resource punkt not found. Please use the NLTK Downloader to obtain the resource:\", execute \n",
    "the following line of code:\n",
    "    \n",
    "nltk.download()"
   ]
  },
  {
   "cell_type": "markdown",
   "metadata": {},
   "source": [
    "# Splitting a sentence into words"
   ]
  },
  {
   "cell_type": "code",
   "execution_count": 4,
   "metadata": {},
   "outputs": [
    {
     "name": "stdout",
     "output_type": "stream",
     "text": [
      "This\n",
      "is\n",
      "a\n",
      "simple\n",
      "sentence\n",
      ".\n"
     ]
    }
   ],
   "source": [
    "example_sentence = \"This is a simple sentence.\"\n",
    "\n",
    "word_tokens = word_tokenize(example_sentence)\n",
    "\n",
    "for w in word_tokens:\n",
    "    print(w)"
   ]
  },
  {
   "cell_type": "markdown",
   "metadata": {},
   "source": [
    "# Preprocessing 1: Changing the case of charachters into a lower case"
   ]
  },
  {
   "cell_type": "code",
   "execution_count": 5,
   "metadata": {},
   "outputs": [
    {
     "name": "stdout",
     "output_type": "stream",
     "text": [
      "this is a simple sentence.\n"
     ]
    }
   ],
   "source": [
    "example_sentence = \"This is a simple sentence.\"\n",
    "final_sentence = example_sentence.lower()\n",
    "\n",
    "print(final_sentence)"
   ]
  },
  {
   "cell_type": "markdown",
   "metadata": {},
   "source": [
    "# Preprocessing 2: removing punctuations from a senetence"
   ]
  },
  {
   "cell_type": "code",
   "execution_count": 7,
   "metadata": {},
   "outputs": [
    {
     "name": "stdout",
     "output_type": "stream",
     "text": [
      "It\n",
      "s\n",
      "a\n",
      "simple\n",
      "sentence\n"
     ]
    }
   ],
   "source": [
    "example_sentence = \"It's a simple sentence.\"\n",
    "\n",
    "tokenizer = RegexpTokenizer('r\\W+|\\w+')\n",
    "word_tokens = tokenizer.tokenize(example_sentence)\n",
    "\n",
    "for w in word_tokens:\n",
    "    print(w)"
   ]
  },
  {
   "cell_type": "markdown",
   "metadata": {},
   "source": [
    "# Preprocessing 3: removing stopwords from a senetence"
   ]
  },
  {
   "cell_type": "code",
   "execution_count": 8,
   "metadata": {},
   "outputs": [
    {
     "name": "stdout",
     "output_type": "stream",
     "text": [
      "It\n",
      "simple\n",
      "sentence\n"
     ]
    }
   ],
   "source": [
    "example_sentence = \"It's a simple sentence.\"\n",
    "\n",
    "stop_words = set(stopwords.words('English'))\n",
    "tokenizer = RegexpTokenizer('r\\W+|\\w+')\n",
    "word_tokens = tokenizer.tokenize(example_sentence)\n",
    "filtered_sentence = [w for w in word_tokens if not w in stop_words]\n",
    "\n",
    "\n",
    "for w in filtered_sentence:\n",
    "    print(w)"
   ]
  },
  {
   "cell_type": "code",
   "execution_count": null,
   "metadata": {},
   "outputs": [],
   "source": []
  }
 ],
 "metadata": {
  "kernelspec": {
   "display_name": "Python 3",
   "language": "python",
   "name": "python3"
  },
  "language_info": {
   "codemirror_mode": {
    "name": "ipython",
    "version": 3
   },
   "file_extension": ".py",
   "mimetype": "text/x-python",
   "name": "python",
   "nbconvert_exporter": "python",
   "pygments_lexer": "ipython3",
   "version": "3.7.0"
  }
 },
 "nbformat": 4,
 "nbformat_minor": 2
}
