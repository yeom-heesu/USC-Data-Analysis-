{
 "cells": [
  {
   "cell_type": "code",
   "execution_count": 1,
   "metadata": {},
   "outputs": [],
   "source": [
    "import tweepy\n",
    "import csv"
   ]
  },
  {
   "cell_type": "code",
   "execution_count": 2,
   "metadata": {},
   "outputs": [],
   "source": [
    "\n",
    "consumer_key = 'hhfzCiaNAgaZDFsaL6KGUesz2'\n",
    "consumer_secret = 'W6N7OxArLj6tYV8Dh8XajwitIuWYCRd0pmWu1jOHJvUzBVqiln'\n",
    "\n",
    "access_token = '1059208697010782208-zXq2crexkA95x63uPiACoN4zbuakiw'\n",
    "access_secret = 'EOIhSkiESdve1azNTIrFfJY2ZJ9e0hNbnVIoZGCTb1Cfw'"
   ]
  },
  {
   "cell_type": "code",
   "execution_count": 20,
   "metadata": {},
   "outputs": [],
   "source": [
    "auth = tweepy.OAuthHandler(consumer_key, consumer_secret)\n",
    "auth.set_access_token(access_token, access_secret)\n",
    "\n",
    "api = tweepy.API(auth)"
   ]
  },
  {
   "cell_type": "code",
   "execution_count": 21,
   "metadata": {},
   "outputs": [
    {
     "name": "stdout",
     "output_type": "stream",
     "text": [
      "----\n",
      "Tweet ID:1146176674410782720\n",
      "Tweet Text:https://t.co/z9ODhUtZJC https://t.co/SOCOQYbVwv\n",
      "Tweet Created At:2019-07-02 21:59:48\n",
      "==========\n"
     ]
    }
   ],
   "source": [
    "fetch_tweets = tweepy.Cursor(api.search, q='USC').items(1)\n",
    "\n",
    "for tweet_rec in fetch_tweets:\n",
    "    print (\"----\")\n",
    "    print ('Tweet ID:'+ str(tweet_rec.id))\n",
    "    print ('Tweet Text:'+ tweet_rec.text.replace('\\n',''))\n",
    "    print ('Tweet Created At:'+ str(tweet_rec.created_at))\n",
    "    \n",
    "    print (\"==========\")"
   ]
  },
  {
   "cell_type": "code",
   "execution_count": null,
   "metadata": {},
   "outputs": [],
   "source": []
  }
 ],
 "metadata": {
  "kernelspec": {
   "display_name": "Python 3",
   "language": "python",
   "name": "python3"
  },
  "language_info": {
   "codemirror_mode": {
    "name": "ipython",
    "version": 3
   },
   "file_extension": ".py",
   "mimetype": "text/x-python",
   "name": "python",
   "nbconvert_exporter": "python",
   "pygments_lexer": "ipython3",
   "version": "3.7.0"
  }
 },
 "nbformat": 4,
 "nbformat_minor": 2
}
