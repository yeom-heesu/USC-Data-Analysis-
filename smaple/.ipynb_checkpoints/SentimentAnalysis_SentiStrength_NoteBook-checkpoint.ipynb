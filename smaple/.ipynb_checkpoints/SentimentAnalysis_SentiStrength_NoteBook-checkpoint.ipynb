{
 "cells": [
  {
   "cell_type": "code",
   "execution_count": 1,
   "metadata": {
    "colab": {},
    "colab_type": "code",
    "id": "Y278Pk6OrjKO"
   },
   "outputs": [],
   "source": [
    "import shlex, subprocess, io, sys, re, csv\n",
    "from importlib import reload\n",
    "reload(sys)\n",
    "from textblob import TextBlob"
   ]
  },
  {
   "cell_type": "code",
   "execution_count": 2,
   "metadata": {
    "colab": {},
    "colab_type": "code",
    "id": "BQrnm5qUrjKY"
   },
   "outputs": [
    {
     "ename": "SyntaxError",
     "evalue": "invalid syntax (<ipython-input-2-b951ac28705e>, line 2)",
     "output_type": "error",
     "traceback": [
      "\u001b[1;36m  File \u001b[1;32m\"<ipython-input-2-b951ac28705e>\"\u001b[1;36m, line \u001b[1;32m2\u001b[0m\n\u001b[1;33m    eet):\u001b[0m\n\u001b[1;37m      ^\u001b[0m\n\u001b[1;31mSyntaxError\u001b[0m\u001b[1;31m:\u001b[0m invalid syntax\n"
     ]
    }
   ],
   "source": [
    "def clean_tweet(tw\n",
    "                eet):\n",
    "    '''\n",
    "    Utility function to clean tweet text by removing links, special characters using simple regex statements.\n",
    "    '''\n",
    "    return ' '.join(re.sub(\"(@[A-Za-z0-9]+)|([^0-9A-Za-z \\t])| (\\w +:\\ / \\ / \\S +)\", \" \", tweet).split())"
   ]
  },
  {
   "cell_type": "code",
   "execution_count": null,
   "metadata": {
    "colab": {},
    "colab_type": "code",
    "id": "bKAAsB_DrjKe"
   },
   "outputs": [],
   "source": [
    "def SentiStrength(tweet):\n",
    "    p = subprocess.Popen(shlex.split(\"java -jar SentiStrength.jar stdin sentidata SentStrength_Data/ binary\"), \n",
    "                         stdin=subprocess.PIPE, stdout=subprocess.PIPE, stderr=subprocess.PIPE)\n",
    "    try:\n",
    "        stdout_text, stderr_text = p.communicate(tweet.replace(\" \", \"+\").encode())\n",
    "        #print stdout_text, stderr_text\n",
    "    except UnicodeDecodeError:\n",
    "        return \"false\"\n",
    "    stdout_text = stdout_text.rstrip().decode().replace(\"\\t\",\"\")\n",
    "    return stdout_text"
   ]
  },
  {
   "cell_type": "code",
   "execution_count": null,
   "metadata": {
    "colab": {},
    "colab_type": "code",
    "id": "2Av19-mcrjKj",
    "outputId": "8399df6b-407a-4dde-de8d-030c55130a96"
   },
   "outputs": [],
   "source": [
    "count = 0\n",
    "f_input= open(\"C:/Users/Abdullah/Documents/Summer2019CourseNoteBooks/tweet_input.csv\",encoding=\"utf8\")\n",
    "f_output= open(\"C:/Users/Abdullah/Documents/Summer2019CourseNoteBooks/nltk_output.txt\",\"w\",encoding=\"utf8\")\n",
    "\n",
    "lines = [x.strip() for x in f_input.readlines()]\n",
    "for line in lines:\n",
    "    count+=1   \n",
    "    #first line is a headerline. Skip intentionally.\n",
    "    if count == 1:    \n",
    "        continue\n",
    "\n",
    "    lineTokens = line.split(',')\n",
    "    analysis = str(TextBlob(clean_tweet(str(lineTokens[0]))))\n",
    "    res=SentiStrength(analysis)\n",
    "    if res == \"false\":\n",
    "        print(lineTokens)\n",
    "        continue\n",
    "\n",
    "    res = [x.strip() for x in res.split(\" \")]\n",
    "    try:\n",
    "        if int(res[-1]) == -1:\n",
    "            sent = res[-2]\n",
    "        else:\n",
    "            sent = res[-3]\n",
    "    except ValueError:\n",
    "        print(lineTokens)\n",
    "        continue\n",
    "\n",
    "    print(lineTokens[0] + \"\\t\" + str(int(sent)))\n",
    "    f_output.write(lineTokens[0] + \"\\t\" + str(int(sent)) + \"\\n\")\n",
    "    \n",
    "f_output.close()\n",
    "f_input.close()"
   ]
  },
  {
   "cell_type": "code",
   "execution_count": 0,
   "metadata": {
    "colab": {},
    "colab_type": "code",
    "id": "M2IukaCIrjKt"
   },
   "outputs": [],
   "source": []
  }
 ],
 "metadata": {
  "colab": {
   "name": "SentimentAnalysis_SentiStrength_NoteBook.ipynb",
   "provenance": [],
   "version": "0.3.2"
  },
  "kernelspec": {
   "display_name": "Python 3",
   "language": "python",
   "name": "python3"
  },
  "language_info": {
   "codemirror_mode": {
    "name": "ipython",
    "version": 3
   },
   "file_extension": ".py",
   "mimetype": "text/x-python",
   "name": "python",
   "nbconvert_exporter": "python",
   "pygments_lexer": "ipython3",
   "version": "3.7.0"
  }
 },
 "nbformat": 4,
 "nbformat_minor": 1
}
